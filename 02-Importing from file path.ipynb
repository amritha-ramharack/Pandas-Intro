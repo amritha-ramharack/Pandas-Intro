{
 "cells": [
  {
   "cell_type": "markdown",
   "metadata": {},
   "source": [
    "# Pandas Tutorial 02 - Reading Files #\n",
    "\n",
    "\n",
    "## Reading csv and excel files located in a different folder from the python file. ##\n",
    "\n",
    "**First import NumPy and pandas.**"
   ]
  },
  {
   "cell_type": "code",
   "execution_count": 1,
   "metadata": {},
   "outputs": [],
   "source": [
    "import numpy as np\n",
    "import pandas as pd\n"
   ]
  },
  {
   "cell_type": "markdown",
   "metadata": {},
   "source": [
    "### Reading an excel data file pd.ExcelFile() ###\n",
    "\n",
    "**<font color=green>var_1 = pd.ExcelFile('file_path')</font>**\n",
    "\n",
    "\n"
   ]
  },
  {
   "cell_type": "code",
   "execution_count": 5,
   "metadata": {},
   "outputs": [],
   "source": [
    "sample = pd.ExcelFile('C:\\\\Users\\\\User\\\\Desktop\\\\pandas_example\\\\sample.xlsx')"
   ]
  },
  {
   "cell_type": "markdown",
   "metadata": {},
   "source": [
    "### View excel data. ###\n",
    "\n",
    "1. Create an object and extract a particular sheet from it.\n",
    "\n",
    "   **<font color=green>var_2 = var_1.parse('sheet_name')</font>**\n",
    "   \n",
    "\n",
    "2. ALternatively, the data can be read using:\n",
    "\n",
    "   **<font color=green>var_2 = pd.ExcelFile('file_path).parse('sheet_name')</font>**  \n",
    "   \n",
    "\n",
    "3. The .head() function gives the top 5 records as a default.\n"
   ]
  },
  {
   "cell_type": "code",
   "execution_count": 6,
   "metadata": {
    "scrolled": true
   },
   "outputs": [
    {
     "data": {
      "text/html": [
       "<div>\n",
       "<style scoped>\n",
       "    .dataframe tbody tr th:only-of-type {\n",
       "        vertical-align: middle;\n",
       "    }\n",
       "\n",
       "    .dataframe tbody tr th {\n",
       "        vertical-align: top;\n",
       "    }\n",
       "\n",
       "    .dataframe thead th {\n",
       "        text-align: right;\n",
       "    }\n",
       "</style>\n",
       "<table border=\"1\" class=\"dataframe\">\n",
       "  <thead>\n",
       "    <tr style=\"text-align: right;\">\n",
       "      <th></th>\n",
       "      <th>time</th>\n",
       "      <th>s1</th>\n",
       "      <th>s2</th>\n",
       "      <th>s3</th>\n",
       "      <th>s4</th>\n",
       "      <th>s5</th>\n",
       "      <th>s6</th>\n",
       "      <th>s7</th>\n",
       "      <th>s8</th>\n",
       "    </tr>\n",
       "  </thead>\n",
       "  <tbody>\n",
       "    <tr>\n",
       "      <td>0</td>\n",
       "      <td>1.398489e+09</td>\n",
       "      <td>406.821114</td>\n",
       "      <td>414.7304</td>\n",
       "      <td>373.126443</td>\n",
       "      <td>375.749231</td>\n",
       "      <td>NaN</td>\n",
       "      <td>NaN</td>\n",
       "      <td>NaN</td>\n",
       "      <td>NaN</td>\n",
       "    </tr>\n",
       "    <tr>\n",
       "      <td>1</td>\n",
       "      <td>1.398489e+09</td>\n",
       "      <td>393.779605</td>\n",
       "      <td>390.7304</td>\n",
       "      <td>363.568921</td>\n",
       "      <td>365.364615</td>\n",
       "      <td>NaN</td>\n",
       "      <td>NaN</td>\n",
       "      <td>NaN</td>\n",
       "      <td>NaN</td>\n",
       "    </tr>\n",
       "    <tr>\n",
       "      <td>2</td>\n",
       "      <td>1.398489e+09</td>\n",
       "      <td>370.956963</td>\n",
       "      <td>378.7304</td>\n",
       "      <td>360.383080</td>\n",
       "      <td>358.441538</td>\n",
       "      <td>NaN</td>\n",
       "      <td>NaN</td>\n",
       "      <td>NaN</td>\n",
       "      <td>NaN</td>\n",
       "    </tr>\n",
       "    <tr>\n",
       "      <td>3</td>\n",
       "      <td>1.398489e+09</td>\n",
       "      <td>362.806020</td>\n",
       "      <td>378.7304</td>\n",
       "      <td>360.383080</td>\n",
       "      <td>353.249231</td>\n",
       "      <td>NaN</td>\n",
       "      <td>NaN</td>\n",
       "      <td>NaN</td>\n",
       "      <td>NaN</td>\n",
       "    </tr>\n",
       "    <tr>\n",
       "      <td>4</td>\n",
       "      <td>1.398489e+09</td>\n",
       "      <td>369.326774</td>\n",
       "      <td>390.7304</td>\n",
       "      <td>363.568921</td>\n",
       "      <td>358.441538</td>\n",
       "      <td>NaN</td>\n",
       "      <td>NaN</td>\n",
       "      <td>NaN</td>\n",
       "      <td>NaN</td>\n",
       "    </tr>\n",
       "  </tbody>\n",
       "</table>\n",
       "</div>"
      ],
      "text/plain": [
       "           time          s1        s2          s3          s4  s5  s6  s7  s8\n",
       "0  1.398489e+09  406.821114  414.7304  373.126443  375.749231 NaN NaN NaN NaN\n",
       "1  1.398489e+09  393.779605  390.7304  363.568921  365.364615 NaN NaN NaN NaN\n",
       "2  1.398489e+09  370.956963  378.7304  360.383080  358.441538 NaN NaN NaN NaN\n",
       "3  1.398489e+09  362.806020  378.7304  360.383080  353.249231 NaN NaN NaN NaN\n",
       "4  1.398489e+09  369.326774  390.7304  363.568921  358.441538 NaN NaN NaN NaN"
      ]
     },
     "execution_count": 6,
     "metadata": {},
     "output_type": "execute_result"
    }
   ],
   "source": [
    "data = sample.parse('data2') \n",
    "\n",
    "# Remove hash sign (#) below and use that line of code as alternative \n",
    "# Replace \\ in file path with \\\\ for Windows\n",
    "# data = pd.ExcelFile('C:\\\\Users\\\\User\\\\Desktop\\\\pandas_example\\\\sample.xlsx').parse('data2')\n",
    "\n",
    "data.head()"
   ]
  },
  {
   "cell_type": "markdown",
   "metadata": {},
   "source": [
    "### Reading an excel data file pd.read_excel() ###\n",
    "\n",
    "**<font color=green>var_1 = pd.read_excel('file_path', sheet_number)</font>**\n",
    "\n",
    "Sheet indexing starts from 0.\n"
   ]
  },
  {
   "cell_type": "code",
   "execution_count": 7,
   "metadata": {},
   "outputs": [],
   "source": [
    "data = pd.read_excel('C:\\\\Users\\\\User\\\\Desktop\\\\pandas_example\\\\sample.xlsx', 1)"
   ]
  },
  {
   "cell_type": "code",
   "execution_count": null,
   "metadata": {},
   "outputs": [],
   "source": []
  }
 ],
 "metadata": {
  "kernelspec": {
   "display_name": "Python 3",
   "language": "python",
   "name": "python3"
  },
  "language_info": {
   "codemirror_mode": {
    "name": "ipython",
    "version": 3
   },
   "file_extension": ".py",
   "mimetype": "text/x-python",
   "name": "python",
   "nbconvert_exporter": "python",
   "pygments_lexer": "ipython3",
   "version": "3.7.4"
  }
 },
 "nbformat": 4,
 "nbformat_minor": 2
}
