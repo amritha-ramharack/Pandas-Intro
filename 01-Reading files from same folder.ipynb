{
 "cells": [
  {
   "cell_type": "markdown",
   "metadata": {},
   "source": [
    "# Pandas Tutorial 01 - Reading Files #\n",
    "\n",
    "\n",
    "## Reading csv and excel files located in the same folder as the python file. ##\n",
    "\n",
    "**First import NumPy and pandas.**\n",
    "\n",
    "https://pandas.pydata.org/pandas-docs/stable/getting_started/intro_tutorials/02_read_write.html?highlight=pandas%20dataframe%20read"
   ]
  },
  {
   "cell_type": "code",
   "execution_count": 54,
   "metadata": {},
   "outputs": [],
   "source": [
    "import numpy as np\n",
    "import pandas as pd\n"
   ]
  },
  {
   "cell_type": "markdown",
   "metadata": {},
   "source": [
    "### A small note on data structures ###\n",
    "\n",
    "The data will be read as a DataFrame.\n",
    "\n",
    "https://pandas.pydata.org/pandas-docs/stable/getting_started/dsintro.html\n",
    "\n",
    "https://pandas.pydata.org/pandas-docs/stable/getting_started/10min.html#viewing-data\n"
   ]
  },
  {
   "cell_type": "markdown",
   "metadata": {},
   "source": [
    "### Reading a csv data file. ###\n",
    "\n",
    "**<font color=purple>var_1 = pd.read_csv('file_name.csv')</font>**"
   ]
  },
  {
   "cell_type": "code",
   "execution_count": 55,
   "metadata": {},
   "outputs": [],
   "source": [
    "sample_1 = pd.read_csv('2017_offshore_data.csv')"
   ]
  },
  {
   "cell_type": "markdown",
   "metadata": {},
   "source": [
    "### Reading an excel data file. ###\n",
    "\n",
    "**<font color=purple>var_1 = pd.read_excel('file_name.xlsx')</font>**"
   ]
  },
  {
   "cell_type": "code",
   "execution_count": 56,
   "metadata": {},
   "outputs": [],
   "source": [
    "sample_2 = pd.read_excel('2017_offshore_data.xlsx')"
   ]
  },
  {
   "cell_type": "markdown",
   "metadata": {},
   "source": [
    "### Printing selected rows including header. ###\n"
   ]
  },
  {
   "cell_type": "code",
   "execution_count": 58,
   "metadata": {},
   "outputs": [
    {
     "name": "stdout",
     "output_type": "stream",
     "text": [
      "    #yr  mo  dy  hr  mn  deg  T m/s  m/s     m    sec  sec.1  deg.1  T   hPa  \\\n",
      "0  2016  12  31  23  50   58    6.5  7.7  2.00  12.12   6.19     47   1015.5   \n",
      "1  2017   1   1   0  50   55    7.0  8.4  2.01   8.33   6.39     78   1015.9   \n",
      "2  2017   1   1   1  50   61    8.3  9.5  2.02   7.69   6.12     82   1015.9   \n",
      "\n",
      "   degC  degC.1  degC.2    mi    ft  \n",
      "0  26.0    27.0    21.6  99.0  99.0  \n",
      "1  26.0    27.0    21.7  99.0  99.0  \n",
      "2  25.8    27.0    22.3  99.0  99.0  \n"
     ]
    },
    {
     "data": {
      "text/plain": [
       "#yr          int64\n",
       "mo           int64\n",
       "dy           int64\n",
       "hr           int64\n",
       "mn           int64\n",
       "deg          int64\n",
       "T m/s      float64\n",
       "m/s        float64\n",
       "m          float64\n",
       "sec        float64\n",
       "sec.1      float64\n",
       "deg.1        int64\n",
       "T   hPa    float64\n",
       "degC       float64\n",
       "degC.1     float64\n",
       "degC.2     float64\n",
       "mi         float64\n",
       "ft         float64\n",
       "dtype: object"
      ]
     },
     "execution_count": 58,
     "metadata": {},
     "output_type": "execute_result"
    }
   ],
   "source": [
    "# Printing first 3 rows including header\n",
    "print(sample_1[0:3])\n",
    "\n",
    "# Give type of data for each column\n",
    "sample_1.dtypes"
   ]
  },
  {
   "cell_type": "markdown",
   "metadata": {},
   "source": [
    "### Set a variable to reference a particular column by its header. ###\n",
    "\n",
    "**<font color=purple>var_2 = var_1['name of column header']</font>**\n",
    "\n",
    "If the column is printed after this, the header name no longer appears in the output.\n",
    "\n"
   ]
  },
  {
   "cell_type": "code",
   "execution_count": 35,
   "metadata": {},
   "outputs": [],
   "source": [
    "#Referencing a column based on the header\n",
    "time = sample_1['#yr']"
   ]
  },
  {
   "cell_type": "markdown",
   "metadata": {},
   "source": [
    "### Referencing columns based on their headers ###\n",
    "\n",
    "- Declare a variable to be used to print the desired columns.\n",
    "- Use .loc[] to access the group of columns by their labels. (This can be used for rows too.)\n",
    "- Can be sliced as seen in cell below.\n",
    "\n",
    "**<font color=purple>var_3 = var_1.loc[]</font>**\n",
    "\n",
    "https://pandas.pydata.org/pandas-docs/stable/reference/api/pandas.DataFrame.loc.html\n",
    "\n"
   ]
  },
  {
   "cell_type": "code",
   "execution_count": 36,
   "metadata": {},
   "outputs": [
    {
     "name": "stdout",
     "output_type": "stream",
     "text": [
      "   degC  degC.1  degC.2\n",
      "0  26.0    27.0    21.6\n",
      "1  26.0    27.0    21.7\n",
      "2  25.8    27.0    22.3\n",
      "3  25.9    27.0    22.2\n",
      "4  25.7    27.0    22.0\n",
      "5  25.8    27.0    22.2\n"
     ]
    }
   ],
   "source": [
    "temp = sample_1.loc[:, 'degC':'degC.2']\n",
    "print(temp[0:6])"
   ]
  },
  {
   "cell_type": "markdown",
   "metadata": {},
   "source": [
    "### Analysing Data ###\n",
    "\n",
    "- Calculating the mean of all rows (axis=1) or columns (axis=0).\n",
    "\n",
    "\n",
    " **<font color=purple>var_4 = np.mean(var_3, axis)</font>**\n",
    "\n",
    "https://docs.scipy.org/doc/numpy/reference/generated/numpy.mean.html\n",
    "\n"
   ]
  },
  {
   "cell_type": "code",
   "execution_count": 42,
   "metadata": {},
   "outputs": [
    {
     "name": "stdout",
     "output_type": "stream",
     "text": [
      "0    24.866667\n",
      "1    24.900000\n",
      "2    25.033333\n",
      "dtype: float64\n",
      "degC      27.192888\n",
      "degC.1    27.430792\n",
      "degC.2    23.324627\n",
      "dtype: float64\n"
     ]
    }
   ],
   "source": [
    "# Average of all rows\n",
    "avg_row = np.mean(temp,axis=1)\n",
    "\n",
    "# Average of all columns\n",
    "avg_col = np.mean(temp,axis=0)\n",
    "\n",
    "print(avg_row[0:3])\n",
    "\n",
    "print(avg_col)"
   ]
  },
  {
   "cell_type": "markdown",
   "metadata": {},
   "source": [
    "### Exporting the analysed data ###\n",
    "\n",
    "Create a new array of data to include in the data file and set it as a new variable.\n",
    "\n",
    "- Concatenate results(axis=1 means put columns next to each other):\n",
    "\n",
    "    **<font color=purple>var_6 = pd.concat(var_5, axis)</font>**\n",
    "\n",
    "\n",
    "- Alternatively, results can be concatenated without setting the array as a variable:\n",
    "\n",
    " **<font color=purple>var_6 = pd.concat([time, temp, avg_row], axis)</font>**\n",
    " \n",
    "\n",
    "- Renaming a column:\n",
    "\n",
    " **<font color=purple>var_6 = var_6.rename(columns = {'original_column_name' : 'new_column_name')</font>**\n",
    "\n",
    "https://www.geeksforgeeks.org/python-change-column-names-and-row-indexes-in-pandas-dataframe/\n"
   ]
  },
  {
   "cell_type": "code",
   "execution_count": 52,
   "metadata": {},
   "outputs": [
    {
     "name": "stdout",
     "output_type": "stream",
     "text": [
      "    #yr  degC  degC.1  degC.2    row_avg\n",
      "0  2016  26.0    27.0    21.6  24.866667\n",
      "1  2017  26.0    27.0    21.7  24.900000\n",
      "2  2017  25.8    27.0    22.3  25.033333\n",
      "3  2017  25.9    27.0    22.2  25.033333\n",
      "4  2017  25.7    27.0    22.0  24.900000\n"
     ]
    }
   ],
   "source": [
    "#creating a new array of data we want to include in the data file\n",
    "analysed_data = [time, temp, avg_row]\n",
    "\n",
    "#concatanating results\n",
    "result = pd.concat(analysed_data, axis=1) \n",
    "\n",
    "# Renaming last column.\n",
    "result = result.rename(columns = {0:'row_avg'})\n",
    "\n",
    "print(result[0:5])"
   ]
  },
  {
   "cell_type": "markdown",
   "metadata": {},
   "source": [
    "### Writing analysed data to a file ###\n",
    "\n",
    "- Write to csv or excel file.\n",
    "\n",
    "**<font color=purple>.to_csv</font>**\n",
    "\n",
    "**<font color=purple>.to_xlsx</font>**\n",
    "\n",
    "- The file is created in the same folder as the python file.\n",
    "\n",
    "\n",
    "**<font color=purple>var_6.to = var_6.to_file type('file_name.file_extension')</font>**\n",
    "\n",
    "https://pandas.pydata.org/pandas-docs/stable/reference/api/pandas.DataFrame.to_csv.html"
   ]
  },
  {
   "cell_type": "code",
   "execution_count": 45,
   "metadata": {},
   "outputs": [],
   "source": [
    "result.to_csv('result.csv')\n",
    "result.to_excel('result.xlsx')\n",
    "\n",
    "\n"
   ]
  },
  {
   "cell_type": "code",
   "execution_count": null,
   "metadata": {},
   "outputs": [],
   "source": []
  }
 ],
 "metadata": {
  "kernelspec": {
   "display_name": "Python 3",
   "language": "python",
   "name": "python3"
  },
  "language_info": {
   "codemirror_mode": {
    "name": "ipython",
    "version": 3
   },
   "file_extension": ".py",
   "mimetype": "text/x-python",
   "name": "python",
   "nbconvert_exporter": "python",
   "pygments_lexer": "ipython3",
   "version": "3.7.4"
  }
 },
 "nbformat": 4,
 "nbformat_minor": 2
}
